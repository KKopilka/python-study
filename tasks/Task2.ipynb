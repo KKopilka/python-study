{
 "cells": [
  {
   "cell_type": "markdown",
   "id": "arctic-stocks",
   "metadata": {},
   "source": [
    "### Задание №1\n",
    "Массив A состоит из целых положительных чисел длин отрезков. Составьте из трех отрезков такой треугольник, чтобы его периметр был максимально возможным. Если невозможно составить треугольник с положительной площадью функция возвращает 0."
   ]
  },
  {
   "cell_type": "code",
   "execution_count": 2,
   "id": "caring-truck",
   "metadata": {
    "scrolled": false
   },
   "outputs": [
    {
     "name": "stdout",
     "output_type": "stream",
     "text": [
      "24\n"
     ]
    }
   ],
   "source": [
    "def max_perim(arr):\n",
    "    max_per = 0\n",
    "    for i in range(len(arr) - 2):\n",
    "        for j in range(i + 1, len(arr)):\n",
    "            for k in range(j + 1, len(arr)):\n",
    "                a = arr[i]\n",
    "                b = arr[j]\n",
    "                c = arr[k]\n",
    "                if (a < a + c) and (b < a + c) and (c < a + b):\n",
    "                    max_per = max(max_per, a+b+c)\n",
    "    return max_per\n",
    "\n",
    "arr = [2, 17, 4, 3]\n",
    "print(max_perim(arr))\n"
   ]
  },
  {
   "cell_type": "markdown",
   "id": "maritime-conversation",
   "metadata": {},
   "source": [
    "### Задание №2\n",
    "Дан массив неотрицательных целых чисел nums. Расположите их в таком порядке, чтобы вместе они образовали максимально возможное число. Замечание: Результат может быть очень большим числом, поэтому представьте его как string, а не integer."
   ]
  },
  {
   "cell_type": "code",
   "execution_count": 1,
   "id": "alert-charm",
   "metadata": {
    "scrolled": false
   },
   "outputs": [
    {
     "name": "stdout",
     "output_type": "stream",
     "text": [
      "[8197, 819]\n",
      "8198197\n"
     ]
    }
   ],
   "source": [
    "def max_number(nums):\n",
    "\tmax_len = len(str(max(nums)))\n",
    "\tarray = []\n",
    "\tfor i in nums:\n",
    "\t\tchar = str(i)\n",
    "\t\ttemp_num = int(char + '9' * (max_len - len(char)))\n",
    "\t\tarray.append([temp_num, i]) \n",
    "\tarray.sort()\n",
    "\tarray.reverse()\n",
    "\tmax_digit = ''\n",
    "\tfor i in array:\n",
    "\t\tmax_digit += str(i[1])\n",
    "\tmax_digit = int(max_digit)\n",
    "\treturn(max_digit)\n",
    "\n",
    "nums = [8197, 819]\n",
    "max_digit = max_number(nums)\n",
    "print(nums)\n",
    "print(max_digit)"
   ]
  },
  {
   "cell_type": "markdown",
   "id": "catholic-roots",
   "metadata": {},
   "source": [
    "### Задание №3\n",
    "Дана матрица mat размером m * n, значения целочисленные. Напишите функцию, сортирующую каждую диагональ матрицы по возрастанию и возвращающую получившуюся матрицу."
   ]
  },
  {
   "cell_type": "code",
   "execution_count": 32,
   "id": "cleared-anniversary",
   "metadata": {
    "scrolled": false
   },
   "outputs": [
    {
     "name": "stdout",
     "output_type": "stream",
     "text": [
      "Matrix:\n",
      " -33  21  32  67\n",
      "  35  91 -31 -10\n",
      "  63  30 -44  79\n",
      " -74 -24  47   2\n",
      "\n",
      "Nex Matrix:\n",
      "  91  21  32  67\n",
      "  35   2  30 -10\n",
      "  63 -31 -33  79\n",
      " -74 -24  47 -44\n",
      "\n"
     ]
    }
   ],
   "source": [
    "import random\n",
    " \n",
    "n = 4\n",
    "m = 4\n",
    " \n",
    "def printMatrix(matrix):\n",
    "    for i in range (len(matrix)):\n",
    "        for j in range (len(matrix[i])):\n",
    "            print(\"{:4d}\".format(matrix[i][j]), end = \"\" )\n",
    "        print()\n",
    "    print()\n",
    " \n",
    "mat = [[0] * n for i in range(n)]\n",
    "for i in range (n):\n",
    "    for j in range (m):\n",
    "        mat[i][j] = random.randint(-100, 100)\n",
    "\n",
    "print('Matrix:')\n",
    "printMatrix(mat)\n",
    "\n",
    "#Главная диагональ\n",
    "for i in range(n):\n",
    "    for j in range(i+1,n):\n",
    "        if mat[i][i] < mat[j][j]:\n",
    "           mat[i][i], mat[j][j] = mat[j][j], mat[i][i]\n",
    " \n",
    "#Побочная диагональ\n",
    "for i in range(n):\n",
    "    for j in range(i+1,n):\n",
    "        if mat[i][-i-1] < mat[j][-j-1]:\n",
    "           mat[i][-i-1], mat[j][-j-1] = mat[j][-j-1], mat[i][-i-1]\n",
    "\n",
    "print('Nex Matrix:')\n",
    "printMatrix(mat)\n"
   ]
  }
 ],
 "metadata": {
  "kernelspec": {
   "display_name": "Python 3 (ipykernel)",
   "language": "python",
   "name": "python3"
  },
  "language_info": {
   "codemirror_mode": {
    "name": "ipython",
    "version": 3
   },
   "file_extension": ".py",
   "mimetype": "text/x-python",
   "name": "python",
   "nbconvert_exporter": "python",
   "pygments_lexer": "ipython3",
   "version": "3.9.6"
  }
 },
 "nbformat": 4,
 "nbformat_minor": 5
}
