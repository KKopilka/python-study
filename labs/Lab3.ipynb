{
 "cells": [
  {
   "cell_type": "markdown",
   "id": "db4b50f0",
   "metadata": {},
   "source": [
    "# Лабораторная работа №3\n",
    "## Выполнила студентка группы БВТ2002 Степанкова Яна"
   ]
  },
  {
   "cell_type": "markdown",
   "id": "annual-symbol",
   "metadata": {},
   "source": [
    "### Оглавление\n",
    "1. [Задание 1](#Задание-№1)\n",
    "2. [Задание 2](#Задание-№2)\n",
    "4. [Вывод](#Вывод)"
   ]
  },
  {
   "cell_type": "markdown",
   "id": "independent-spirit",
   "metadata": {},
   "source": [
    "> Дополнительные модули, использованные при выполнение лабораторной"
   ]
  },
  {
   "cell_type": "code",
   "execution_count": 99,
   "metadata": {},
   "outputs": [],
   "source": [
    "import time"
   ]
  },
  {
   "cell_type": "markdown",
   "id": "inclusive-motorcycle",
   "metadata": {},
   "source": [
    "### Задание №1\n",
    "Реализовать методы поиска подстроки в строке. Добавить возможность ввода строки и подстроки с клавиатуры. Предусмотреть возможность существования пробела. Реализовать возможность выбора опции чувствительности или нечувствительности к регистру. Оценить время работы каждого алгоритма поиска и сравнить его со временем работы стандартной функции поиска, используемой в выбранном языке программирования."
   ]
  },
  {
   "cell_type": "markdown",
   "id": "625f9a91",
   "metadata": {},
   "source": [
    "#### Стандартный алгоритм поиска"
   ]
  },
  {
   "cell_type": "code",
   "execution_count": 100,
   "id": "f1ab73f6",
   "metadata": {},
   "outputs": [
    {
     "name": "stdout",
     "output_type": "stream",
     "text": [
      "[0, 41]\n",
      "Время стандартного поиска:  0.0010006427764892578 seconds\n"
     ]
    }
   ],
   "source": [
    "start_time = time.time()\n",
    "def find_all(s, sub):\n",
    "    res = []\n",
    "    cur_pos = 0\n",
    "    for x in s.split(sub)[:-1]:\n",
    "        cur_pos += len(x)\n",
    "        res.append(cur_pos)\n",
    "        cur_pos += len(sub)\n",
    "    return res\n",
    "\n",
    "print(find_all(\"Попробуй этих чудесных и спелых фруктов. Попробуешь?\", \"Поп\"))\n",
    "print(\"Время стандартного поиска: \",\"%s seconds\" % (time.time() - start_time))"
   ]
  },
  {
   "cell_type": "markdown",
   "id": "interracial-communication",
   "metadata": {},
   "source": [
    "#### Алгоритм Кнута-Морриса-Пратта"
   ]
  },
  {
   "cell_type": "code",
   "execution_count": 101,
   "id": "presidential-level",
   "metadata": {},
   "outputs": [
    {
     "name": "stdout",
     "output_type": "stream",
     "text": [
      "42 6\n",
      ">>> [0, 0, 0, 1, 2, 0]\n",
      "[3, 22, 33]\n",
      "abcabd\n",
      "abcabd\n",
      "abcabd\n",
      "Время поиска алгоритма Кнута-Морриса-Пратта:  0.0020012855529785156 seconds\n"
     ]
    }
   ],
   "source": [
    "start_time = time.time()\n",
    "def func_prefix(s): #O(N/A)\n",
    "    l = len(s)\n",
    "    P = [0]*l\n",
    "    i, j = 0, 1\n",
    "    while j < l :\n",
    "        if ord(s[i]) == ord(s[j]):\n",
    "            P[j] = i + 1\n",
    "            i += 1\n",
    "            j += 1\n",
    "        elif i:\n",
    "            i = P[i - 1]\n",
    "        else:\n",
    "            P[j] = 0\n",
    "            j += 1\n",
    "    return P\n",
    "\n",
    "def kmp(text, sub):\n",
    "    sub_len = len(sub)\n",
    "    text_len = len(text)\n",
    "    print(text_len, sub_len)\n",
    "    if not text_len or sub_len > text_len:\n",
    "        return []\n",
    "    P = func_prefix(sub)\n",
    "    print(\">>>\", P)\n",
    "    entries = []\n",
    "    i = j = 0\n",
    "    while i < text_len and j < sub_len:\n",
    "        if ord(text[i]) == ord(sub[j]):\n",
    "            if j == sub_len - 1:\n",
    "                entries.append(i - sub_len + 1)\n",
    "                j = 0\n",
    "            else:\n",
    "                j += 1\n",
    "            i += 1\n",
    "        # text[i] 1= sub[j]\n",
    "        elif j:     # j > 0\n",
    "            j = P[j-1]\n",
    "        else:\n",
    "            i += 1\n",
    "    return entries\n",
    "\n",
    "s = \"Abcabcabdaeab cabCabdrabcabd tuyeabcabdwrt\"\n",
    "sub = \"abcabd\"\n",
    "P = kmp(s, sub)\n",
    "print(P)\n",
    "for i in P:\n",
    "    print(s[i:i + len(sub)])\n",
    "    \n",
    "print(\"Время поиска алгоритма Кнута-Морриса-Пратта: \",\"%s seconds\" % (time.time() - start_time))"
   ]
  },
  {
   "cell_type": "markdown",
   "id": "downtown-option",
   "metadata": {},
   "source": [
    "#### Упрощенный алгоритм Бойера-Мура"
   ]
  },
  {
   "cell_type": "code",
   "execution_count": 105,
   "id": "respective-reggae",
   "metadata": {},
   "outputs": [
    {
     "name": "stdout",
     "output_type": "stream",
     "text": [
      "A cat is not a dog\n",
      "dog\n",
      "-------\n",
      "at is not a dog\n",
      "dog\n",
      "-------\n",
      "is not a dog\n",
      "dog\n",
      "-------\n",
      "not a dog\n",
      "dog\n",
      "-------\n",
      " a dog\n",
      "dog\n",
      "-------\n",
      "dog\n",
      "dog\n",
      "-------\n",
      "Позиция:15\n",
      "Время поиска алгоритма Бойера-Мура:  0.0010025501251220703 seconds\n"
     ]
    }
   ],
   "source": [
    "start_time = time.time()\n",
    "def string_match_boyer_moore(string, match, start=0):\n",
    "    # string, match = input(), input()\n",
    "    string_len = len(string)\n",
    "    match_len  = len(match)\n",
    "    end = match_len - 1\n",
    "    print (string)\n",
    "    print (match)\n",
    "    print ('-------')\n",
    "    if string_len < match_len:\n",
    "        print ('Not Found')\n",
    "        return start;\n",
    "    while string[end] == match[end]:\n",
    "        end -= 1\n",
    "        if end == 0:\n",
    "            print ('Позиция:' + str(start))\n",
    "            return\n",
    "    idx = contain_char(match, string[end])\n",
    "    shift = match_len\n",
    "    if idx > -1:\n",
    "        shift = end - idx\n",
    "    start += shift\n",
    "    string_match_boyer_moore(string[shift:], match, start)\n",
    " \n",
    "def contain_char(s,c):\n",
    "   for i in range(len(s)):\n",
    "      if c == s[i]:\n",
    "          return i\n",
    "   return -1\n",
    " \n",
    "string_match_boyer_moore('A cat is not a dog','dog')\n",
    "print(\"Время поиска алгоритма Бойера-Мура: \",\"%s seconds\" % (time.time() - start_time))"
   ]
  },
  {
   "cell_type": "markdown",
   "id": "hybrid-memorial",
   "metadata": {},
   "source": [
    "### Задание №2\n",
    "Написать программу, определяющую, является ли данное\n",
    "расположение «решаемым», то есть можно ли из него за конечное число\n",
    "шагов перейти к правильному. Если это возможно, то необходимо найти хотя\n",
    "бы одно решение - последовательность движений, после которой числа будут\n",
    "расположены в правильном порядке.\n",
    "#### Входные данные: массив чисел, представляющий собой расстановку в\n",
    "Порядке «слева направо, сверху вниз». Число 0 обозначает пустое поле.\n",
    "Например, массив [1, 2, 3, 4, 5, 6, 7, 8, 9, 10, 11, 12, 13, 14, 15, 0] представляет\n",
    "собой «решенную» позицию элементов.\n",
    "#### Выходные данные: если решения нет, то функция должна вернуть\n",
    "Пустой массив []. Если решение есть, то необходимо представить решение —\n",
    "для каждого шага записывается номер передвигаемого на данном шаге\n",
    "элемента. "
   ]
  },
  {
   "cell_type": "code",
   "execution_count": 103,
   "id": "ed711c38",
   "metadata": {},
   "outputs": [
    {
     "name": "stdout",
     "output_type": "stream",
     "text": [
      "[1, 5, 4, 6, 7, 8, 9, 10, 0, 11, 2, 12, 13, 14, 3, 15]\n",
      "[1, 5, 4, 6, 7, 8, 9, 10, 11, 0, 2, 12, 13, 14, 3, 15]\n",
      "[1, 5, 4, 6, 7, 8, 9, 10, 11, 2, 0, 12, 13, 14, 3, 15]\n",
      "[1, 5, 4, 6, 7, 8, 9, 10, 11, 2, 12, 0, 13, 14, 3, 15]\n",
      "[1, 5, 4, 6, 7, 8, 9, 10, 11, 2, 12, 13, 0, 14, 3, 15]\n",
      "[1, 5, 4, 6, 7, 8, 9, 10, 11, 2, 12, 13, 14, 0, 3, 15]\n",
      "[1, 5, 4, 6, 7, 8, 9, 10, 11, 2, 12, 13, 14, 3, 0, 15]\n",
      "[1, 5, 4, 6, 7, 8, 9, 10, 11, 2, 12, 13, 14, 3, 15, 0]\n",
      "[1, 5, 4, 6, 7, 8, 9, 10, 2, 11, 12, 13, 14, 3, 15, 0]\n",
      "[1, 5, 4, 6, 7, 8, 9, 2, 10, 11, 12, 13, 14, 3, 15, 0]\n",
      "[1, 5, 4, 6, 7, 8, 2, 9, 10, 11, 12, 13, 14, 3, 15, 0]\n",
      "[1, 5, 4, 6, 7, 2, 8, 9, 10, 11, 12, 13, 14, 3, 15, 0]\n",
      "[1, 5, 4, 6, 2, 7, 8, 9, 10, 11, 12, 13, 14, 3, 15, 0]\n",
      "[1, 5, 4, 2, 6, 7, 8, 9, 10, 11, 12, 13, 14, 3, 15, 0]\n",
      "[1, 5, 2, 4, 6, 7, 8, 9, 10, 11, 12, 13, 14, 3, 15, 0]\n",
      "[1, 2, 5, 4, 6, 7, 8, 9, 10, 11, 12, 13, 14, 3, 15, 0]\n",
      "[1, 2, 5, 4, 6, 7, 8, 9, 10, 11, 12, 13, 3, 14, 15, 0]\n",
      "[1, 2, 5, 4, 6, 7, 8, 9, 10, 11, 12, 3, 13, 14, 15, 0]\n",
      "[1, 2, 5, 4, 6, 7, 8, 9, 10, 11, 3, 12, 13, 14, 15, 0]\n",
      "[1, 2, 5, 4, 6, 7, 8, 9, 10, 3, 11, 12, 13, 14, 15, 0]\n",
      "[1, 2, 5, 4, 6, 7, 8, 9, 3, 10, 11, 12, 13, 14, 15, 0]\n",
      "[1, 2, 5, 4, 6, 7, 8, 3, 9, 10, 11, 12, 13, 14, 15, 0]\n",
      "[1, 2, 5, 4, 6, 7, 3, 8, 9, 10, 11, 12, 13, 14, 15, 0]\n",
      "[1, 2, 5, 4, 6, 3, 7, 8, 9, 10, 11, 12, 13, 14, 15, 0]\n",
      "[1, 2, 5, 4, 3, 6, 7, 8, 9, 10, 11, 12, 13, 14, 15, 0]\n",
      "[1, 2, 5, 3, 4, 6, 7, 8, 9, 10, 11, 12, 13, 14, 15, 0]\n",
      "[1, 2, 3, 5, 4, 6, 7, 8, 9, 10, 11, 12, 13, 14, 15, 0]\n",
      "[1, 2, 3, 4, 5, 6, 7, 8, 9, 10, 11, 12, 13, 14, 15, 0]\n"
     ]
    },
    {
     "data": {
      "text/plain": [
       "28"
      ]
     },
     "execution_count": 103,
     "metadata": {},
     "output_type": "execute_result"
    }
   ],
   "source": [
    "def parity(arr):\n",
    "    x = 0\n",
    "    y = (arr.index(0)//4) + 1\n",
    "    for i in range(16):\n",
    "        for j in range(i + 1, 16):\n",
    "            if arr[i] > arr[j] and arr[i] != 0 and arr[j] != 0:\n",
    "                x += 1\n",
    "    return (x + y) % 2 == 0    \n",
    "       \n",
    "steps = 0\n",
    "def barley_break(arr):\n",
    "    if parity:       \n",
    "        maximum = max(arr)\n",
    "        inv = 0\n",
    "        global steps\n",
    "        for i in range(len(arr)):\n",
    "            if arr[i]:\n",
    "                for j in range(len(arr)):\n",
    "                    if arr[i] > arr[i]:\n",
    "                        inv += 1\n",
    "        for i in range(len(arr)):\n",
    "            if arr[i] == 0:\n",
    "                inv += 1 + i / 4\n",
    "        for element in range(maximum):\n",
    "            if element == 0:\n",
    "                ind = arr.index(0)\n",
    "                while not ind == len(arr) - 1:\n",
    "                    arr[ind] = arr[ind + 1]\n",
    "                    arr[ind + 1] = element\n",
    "                    print(arr)\n",
    "                    ind += 1\n",
    "                    steps += 1 \n",
    "            else:\n",
    "                ind = arr.index(element)\n",
    "                while not ind == element - 1:\n",
    "                    if ind < element - 1: # число слева от нужного индекса\n",
    "                        arr[ind] = arr[ind + 1]\n",
    "                        arr[ind + 1] = element\n",
    "                        ind += 1\n",
    "                    elif ind > element - 1: # число справа от нужного индекса\n",
    "                        arr[ind] = arr[ind - 1]\n",
    "                        arr[ind - 1] = element\n",
    "                        ind -= 1\n",
    "                        steps += 1\n",
    "                    print(arr)\n",
    "    else:\n",
    "        print(\"Нерешаемо\")\n",
    "    return steps  \n",
    "        \n",
    "barley_break([1, 5, 4, 6, 7, 8, 9, 0, 10, 11, 2, 12, 13, 14, 3, 15])"
   ]
  }
 ],
 "metadata": {
  "kernelspec": {
   "display_name": "Python 3 (ipykernel)",
   "language": "python",
   "name": "python3"
  },
  "language_info": {
   "codemirror_mode": {
    "name": "ipython",
    "version": 3
   },
   "file_extension": ".py",
   "mimetype": "text/x-python",
   "name": "python",
   "nbconvert_exporter": "python",
   "pygments_lexer": "ipython3",
   "version": "3.9.6"
  }
 },
 "nbformat": 4,
 "nbformat_minor": 5
}
