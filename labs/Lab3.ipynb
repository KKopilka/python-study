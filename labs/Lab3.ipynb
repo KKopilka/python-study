{
 "cells": [
  {
   "cell_type": "markdown",
   "id": "db4b50f0",
   "metadata": {},
   "source": [
    "# Лабораторная работа №3\n",
    "## Выполнила студентка группы БВТ2002 Степанкова Яна"
   ]
  },
  {
   "cell_type": "markdown",
   "id": "annual-symbol",
   "metadata": {},
   "source": [
    "### Оглавление\n",
    "1. [Задание 1](#Задание-№1)\n",
    "2. [Задание 2](#Задание-№2)\n",
    "4. [Вывод](#Вывод)"
   ]
  },
  {
   "cell_type": "markdown",
   "id": "independent-spirit",
   "metadata": {},
   "source": [
    "> Дополнительные модули, использованные при выполнение лабораторной"
   ]
  },
  {
   "cell_type": "code",
   "execution_count": 1,
   "id": "4839be2b",
   "metadata": {},
   "outputs": [],
   "source": [
    "# Необходим при замере скорости выполнения кода\n",
    "from datetime import datetime as t\n",
    "# Нужен для создания словаря в алг. Бойера-Мура\n",
    "from collections import defaultdict"
   ]
  },
  {
   "cell_type": "markdown",
   "id": "inclusive-motorcycle",
   "metadata": {},
   "source": [
    "### Задание №1\n",
    "Реализовать методы поиска подстроки в строке. Добавить возможность ввода строки и подстроки с клавиатуры. Предусмотреть возможность существования пробела. Реализовать возможность выбора опции чувствительности или нечувствительности к регистру. Оценить время работы каждого алгоритма поиска и сравнить его со временем работы стандартной функции поиска, используемой в выбранном языке программирования."
   ]
  },
  {
   "cell_type": "markdown",
   "id": "interracial-communication",
   "metadata": {},
   "source": [
    "#### Алгоритм Кнута-Морриса-Пратта"
   ]
  },
  {
   "cell_type": "code",
   "execution_count": 4,
   "id": "presidential-level",
   "metadata": {},
   "outputs": [
    {
     "name": "stdout",
     "output_type": "stream",
     "text": [
      "35 6\n",
      ">>> [0, 0, 0, 1, 2, 0]\n",
      "[9, 16, 26]\n",
      "abcabd\n",
      "abcabd\n",
      "abcabd\n"
     ]
    }
   ],
   "source": [
    "def func_prefix(s: str) -> list:\n",
    "    \"\"\"\n",
    "    Fills Pi-function array\n",
    "    :param str: lookip string\n",
    "    :return: result\n",
    "    \"\"\"\n",
    "    l = len(s)\n",
    "    P = [0]*l\n",
    "    i, j = 0, 1\n",
    "    while j < l :\n",
    "        if s[i] == s[j]:\n",
    "            P[j] = i + 1\n",
    "            i += 1\n",
    "            j += 1\n",
    "        # s[i] != s[j]:\n",
    "        elif i:         # i > 0\n",
    "            i = P[i - 1]\n",
    "        else:           # i == 0\n",
    "            P[j] = 0\n",
    "            j += 1\n",
    "    return P\n",
    "\n",
    "def kmp(text: str, sub: str) -> list:\n",
    "    sub_len = len(sub)\n",
    "    text_len = len(text)\n",
    "    print(text_len, sub_len)\n",
    "    if not text_len or sub_len > text_len:\n",
    "        return []\n",
    "    P = func_prefix(sub)\n",
    "    print(\">>>\", P)\n",
    "    entries = []\n",
    "    i = j = 0\n",
    "    while i < text_len and j < sub_len:\n",
    "        if text[i] == sub[j]:\n",
    "            if j == sub_len - 1:\n",
    "                entries.append(i - sub_len + 1)\n",
    "                j = 0\n",
    "            else:\n",
    "                j += 1\n",
    "            i += 1\n",
    "        # text[i] 1= sub[j]\n",
    "        elif j:     # j > 0\n",
    "            j = P[j-1]\n",
    "        else:\n",
    "            i += 1\n",
    "    return entries\n",
    "\n",
    "s = \"abcabeabcabcabdrabcabdtuyeabcabdwrt\"\n",
    "sub = \"abcabd\"\n",
    "P = kmp(s, sub)\n",
    "print(P)\n",
    "for i in P:\n",
    "    print(s[i:i + len(sub)])\n",
    "\n"
   ]
  },
  {
   "cell_type": "markdown",
   "id": "downtown-option",
   "metadata": {},
   "source": [
    "#### Упрощенный алгоритм Бойера-Мура"
   ]
  },
  {
   "cell_type": "code",
   "execution_count": 1,
   "id": "respective-reggae",
   "metadata": {},
   "outputs": [
    {
     "name": "stdout",
     "output_type": "stream",
     "text": [
      "here is a simple example\n",
      "example\n",
      "******\n",
      " a simple example\n",
      "example\n",
      "******\n",
      " simple example\n",
      "example\n",
      "******\n",
      " example\n",
      "example\n",
      "******\n",
      "example\n",
      "example\n",
      "******\n",
      "Success Position:17\n"
     ]
    }
   ],
   "source": [
    "def string_match_boyer_moore(string,match,start=0):\n",
    "    string_len = len(string)\n",
    "    match_len  = len(match)\n",
    "    end = match_len - 1\n",
    "    print (string)\n",
    "    print (match)\n",
    "    print ('******')\n",
    "    if string_len < match_len:\n",
    "        print ('Not Found')\n",
    "        return start;\n",
    "    while string[end] == match[end]:\n",
    "        end -= 1\n",
    "        if end == 0:\n",
    "            print ('Success Position:' + str(start))\n",
    "            return\n",
    "    idx = contain_char(match,string[end])\n",
    "    shift = match_len\n",
    "    if idx > -1:\n",
    "        shift = end - idx\n",
    "    start += shift\n",
    "    string_match_boyer_moore(string[shift:],match,start)\n",
    " \n",
    "def contain_char(s,c):\n",
    "    \n",
    "   for i in range(len(s)):\n",
    "      if c == s[i]:\n",
    "          return i\n",
    "   return -1\n",
    " \n",
    "string_match_boyer_moore('here is a simple example','example')"
   ]
  },
  {
   "cell_type": "markdown",
   "id": "hybrid-memorial",
   "metadata": {},
   "source": [
    "### Задание №2\n",
    "Написать программу, определяющую, является ли данное\n",
    "расположение «решаемым», то есть можно ли из него за конечное число\n",
    "шагов перейти к правильному. Если это возможно, то необходимо найти хотя\n",
    "бы одно решение - последовательность движений, после которой числа будут\n",
    "расположены в правильном порядке.\n",
    "#### Входные данные: массив чисел, представляющий собой расстановку в\n",
    "Порядке «слева направо, сверху вниз». Число 0 обозначает пустое поле.\n",
    "Например, массив [1, 2, 3, 4, 5, 6, 7, 8, 9, 10, 11, 12, 13, 14, 15, 0] представляет\n",
    "собой «решенную» позицию элементов.\n",
    "#### Выходные данные: если решения нет, то функция должна вернуть\n",
    "Пустой массив []. Если решение есть, то необходимо представить решение —\n",
    "для каждого шага записывается номер передвигаемого на данном шаге\n",
    "элемента. "
   ]
  },
  {
   "cell_type": "code",
   "execution_count": 5,
   "id": "eleven-generic",
   "metadata": {},
   "outputs": [],
   "source": []
  },
  {
   "cell_type": "markdown",
   "id": "arbitrary-amazon",
   "metadata": {},
   "source": [
    "### Вывод"
   ]
  },
  {
   "cell_type": "markdown",
   "id": "71bc58bf",
   "metadata": {},
   "source": []
  }
 ],
 "metadata": {
  "kernelspec": {
   "display_name": "Python 3 (ipykernel)",
   "language": "python",
   "name": "python3"
  },
  "language_info": {
   "codemirror_mode": {
    "name": "ipython",
    "version": 3
   },
   "file_extension": ".py",
   "mimetype": "text/x-python",
   "name": "python",
   "nbconvert_exporter": "python",
   "pygments_lexer": "ipython3",
   "version": "3.9.6"
  }
 },
 "nbformat": 4,
 "nbformat_minor": 5
}
