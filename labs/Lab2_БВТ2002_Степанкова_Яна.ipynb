{
 "cells": [
  {
   "cell_type": "markdown",
   "metadata": {},
   "source": [
    "# Лабораторная работа №2 Методы поиска.\n",
    "##### Выполнила студентка группы БВТ2002 Степанкова Яна\n",
    "##### Реализовать методы поиска в соответствии с заданием. Организовать генерацию начального набора случайных данных. Для всех вариантов добавить реализацию добавлния, поиска и удаления элементов. Оценить время работы и сравнить его со временем работы стандартной функции поиска.\n",
    "## Задание №1"
   ]
  },
  {
   "cell_type": "markdown",
   "metadata": {},
   "source": [
    "##### Организация начального набора случайных данных."
   ]
  },
  {
   "cell_type": "code",
   "execution_count": 1,
   "metadata": {},
   "outputs": [
    {
     "name": "stdout",
     "output_type": "stream",
     "text": [
      "[68, 2185, 2205, 2488, 2739, 3108, 3494, 3900, 4022, 4145, 4200, 4888, 4944, 4975, 5107, 5183, 5282, 5326, 5401, 5580, 6372, 6488, 6612, 6837, 7546, 7773, 7939, 8339, 9809, 9976]\n",
      "3900\n"
     ]
    }
   ],
   "source": [
    "from random import randint\n",
    "\n",
    "mat=[]\n",
    "n = int(input())\n",
    "for i in range(n):\n",
    "    mat.append(randint(0,10000))\n",
    "mat.sort()\n",
    "print(mat)\n",
    "\n",
    "#искомое значение\n",
    "value = int(input())\n",
    "print(value)"
   ]
  },
  {
   "cell_type": "markdown",
   "metadata": {},
   "source": [
    "### Бинарный поиск\n",
    "##### Бинарный поиск работает по принципу «разделяй и властвуй». Он быстрее, чем линейный поиск, но требует, чтобы массив был отсортирован перед выполнением алгоритма."
   ]
  },
  {
   "cell_type": "code",
   "execution_count": 2,
   "metadata": {},
   "outputs": [],
   "source": [
    "import time"
   ]
  },
  {
   "cell_type": "code",
   "execution_count": 3,
   "metadata": {},
   "outputs": [
    {
     "name": "stdout",
     "output_type": "stream",
     "text": [
      "7\n",
      "time:  0.0019998550415039062\n"
     ]
    }
   ],
   "source": [
    "start_time=time.time()\n",
    "def BinarySearch(mat, value):\n",
    "    first = 0\n",
    "    last = len(mat)-1\n",
    "    index = -1\n",
    "    while (first <= last) and (index == -1):\n",
    "        mid = (first + last)//2\n",
    "        if mat[mid] == value:\n",
    "            index = mid\n",
    "        else:\n",
    "            if value < mat[mid]:\n",
    "                last = mid -1\n",
    "            else:\n",
    "                first = mid +1\n",
    "    return index\n",
    "print(BinarySearch(mat, value))\n",
    "print(\"time: \", time.time() - start_time)"
   ]
  },
  {
   "cell_type": "markdown",
   "metadata": {},
   "source": [
    "### Фибоначчиев поиск\n",
    "##### Он получил свое название потому, что использует числа Фибоначчи для вычисления размера блока или диапазона поиска на каждом шаге."
   ]
  },
  {
   "cell_type": "code",
   "execution_count": 4,
   "metadata": {},
   "outputs": [
    {
     "name": "stdout",
     "output_type": "stream",
     "text": [
      "7\n",
      "time:  0.0\n"
     ]
    }
   ],
   "source": [
    "start_time=time.time()\n",
    "def FibonacciSearch(mat, value):\n",
    "    # Два числа Фибоначчи непосредственно перед fibM\n",
    "    fibM_minus_2 = 0\n",
    "    fibM_minus_1 = 1\n",
    "    fibM = fibM_minus_1 + fibM_minus_2\n",
    "    while (fibM < len(mat)):\n",
    "        fibM_minus_2 = fibM_minus_1\n",
    "        fibM_minus_1 = fibM\n",
    "        fibM = fibM_minus_1 + fibM_minus_2\n",
    "    index = -1;\n",
    "    while (fibM > 1):\n",
    "        i = min(index + fibM_minus_2, (len(mat)-1))\n",
    "        if (mat[i] < value):\n",
    "            fibM = fibM_minus_1\n",
    "            fibM_minus_1 = fibM_minus_2\n",
    "            fibM_minus_2 = fibM - fibM_minus_1\n",
    "            index = i\n",
    "        elif (mat[i] > value):\n",
    "            fibM = fibM_minus_2\n",
    "            fibM_minus_1 = fibM_minus_1 - fibM_minus_2\n",
    "            fibM_minus_2 = fibM - fibM_minus_1\n",
    "        else :\n",
    "            return i\n",
    "    if (fibM_minus_1 and index < (len(mat)-1) and mat[index+1] == value):\n",
    "        return index + 1;\n",
    "    return -1\n",
    "print(FibonacciSearch(mat, value))\n",
    "print(\"time: \", time.time() - start_time)"
   ]
  },
  {
   "cell_type": "markdown",
   "metadata": {},
   "source": [
    "### Интерполяционный поиск\n",
    "##### Интерполяционный поиск — это еще один алгоритм «разделяй и властвуй», аналогичный бинарному поиску. В отличие от бинарного поиска, он не всегда начинает поиск с середины. "
   ]
  },
  {
   "cell_type": "code",
   "execution_count": 5,
   "metadata": {},
   "outputs": [
    {
     "name": "stdout",
     "output_type": "stream",
     "text": [
      "7\n",
      "time:  0.0\n"
     ]
    }
   ],
   "source": [
    "start_time=time.time()\n",
    "def InterpolationSearch(mat, value):\n",
    "    low = 0 # Начальный индекс массива\n",
    "    high = (len(mat) - 1) # Последний индекс массива\n",
    "    while low <= high and value >= mat[low] and value <= mat[high]:\n",
    "        # Интерполяционный поиск вычисляет вероятную позицию искомого элемента по формуле:\n",
    "        index = low + int(((float(high - low) / (mat[high] - mat[low])) * (value - mat[low])))\n",
    "        if mat[index] == value:\n",
    "            return index\n",
    "        if mat[index] < value:\n",
    "            # Значение индекса пересчитывается по формуле для левого подмассива\n",
    "            low = index + 1;\n",
    "        else:\n",
    "            # Значение индекса пересчитывается по формуле для правого подмассива\n",
    "            high = index - 1;\n",
    "    return -1\n",
    "print(InterpolationSearch(mat, value))\n",
    "print(\"time: \", time.time() - start_time)"
   ]
  },
  {
   "cell_type": "markdown",
   "metadata": {},
   "source": [
    "##### Время бинарного поиска: 0.001 s\n",
    "##### Время фибоначчиева поиска: 0.00102 s\n",
    "##### Время интерполяционный поиска: 0.001 s\n"
   ]
  },
  {
   "cell_type": "markdown",
   "metadata": {},
   "source": [
    "### Бинарное дерево"
   ]
  },
  {
   "cell_type": "code",
   "execution_count": 6,
   "metadata": {},
   "outputs": [
    {
     "name": "stdout",
     "output_type": "stream",
     "text": [
      "Нет элемента 894\n",
      "time:  19.6287682056427\n"
     ]
    }
   ],
   "source": [
    "start_time = time.time()\n",
    "class Node:\n",
    "    def __init__(self, value):\n",
    "        self.left = None\n",
    "        self.right = None\n",
    "        self.value = value\n",
    "\n",
    "class BinaryTree:\n",
    "    def __init__(self):\n",
    "        self.root = None\n",
    "\n",
    "    def getRoot(self):\n",
    "        return self.root\n",
    "\n",
    "    def addElement(self, value):\n",
    "        if self.root is None:\n",
    "            self.root = Node(value)\n",
    "        else:\n",
    "            self._addElement(value, self.root)\n",
    "\n",
    "    def _addElement(self, value, node):\n",
    "        if value < node.value:\n",
    "            if node.left is not None:\n",
    "                self._addElement(value, node.left)\n",
    "            else:\n",
    "                node.left = Node(value)\n",
    "        else:\n",
    "            if node.right is not None:\n",
    "                self._addElement(value, node.right)\n",
    "            else:\n",
    "                node.right = Node(value)\n",
    "\n",
    "    def findElement(self, value):\n",
    "        if self.root is not None:\n",
    "            return self._findElement(value, self.root)\n",
    "        else:\n",
    "            return None\n",
    "\n",
    "    def _findElement(self, value, node):\n",
    "        if value == node.value:\n",
    "            return node\n",
    "        elif (value < node.value and node.left is not None):\n",
    "            return self._findElement(value, node.left)\n",
    "        elif (value > node.value and node.right is not None):\n",
    "            return self._findElement(value, node.right)\n",
    "        \n",
    "    def deleteValue(self, value):\n",
    "        global a\n",
    "        global tree\n",
    "        while value in a:\n",
    "            a.remove(value)\n",
    "        new_tree = BinaryTree()\n",
    "        for number in a:\n",
    "            new_tree.addElement(number)\n",
    "        tree = new_tree\n",
    "        \n",
    "tree = BinaryTree()\n",
    "mass=[]\n",
    "n = int(input())\n",
    "for i in range(n):\n",
    "    mass.append(randint(0,1000))\n",
    "for i in range(len(mass)):\n",
    "    tree.addElement(mass[i])\n",
    "element = randint(0,1000)\n",
    "if tree.findElement(element) is None:\n",
    "    print(\"Нет элемента\", element)\n",
    "else: \n",
    "    print(\"Элемент\", element, \"найден\")\n",
    "print(\"time: \", time.time() - start_time)\n"
   ]
  },
  {
   "cell_type": "markdown",
   "metadata": {},
   "source": [
    "## Задание №2\n",
    "##### Реализовать три метода рехэширования"
   ]
  },
  {
   "cell_type": "markdown",
   "metadata": {},
   "source": [
    "### Простое рехешировние\n"
   ]
  },
  {
   "cell_type": "code",
   "execution_count": null,
   "metadata": {},
   "outputs": [],
   "source": []
  }
 ],
 "metadata": {
  "interpreter": {
   "hash": "ef505c15dbd301faf2cdc6f99e22739808c78a6970314a470bf8f7de97884d8c"
  },
  "kernelspec": {
   "display_name": "Python 3.9.6 64-bit",
   "language": "python",
   "name": "python3"
  },
  "language_info": {
   "codemirror_mode": {
    "name": "ipython",
    "version": 3
   },
   "file_extension": ".py",
   "mimetype": "text/x-python",
   "name": "python",
   "nbconvert_exporter": "python",
   "pygments_lexer": "ipython3",
   "version": "3.9.6"
  },
  "orig_nbformat": 4
 },
 "nbformat": 4,
 "nbformat_minor": 2
}
