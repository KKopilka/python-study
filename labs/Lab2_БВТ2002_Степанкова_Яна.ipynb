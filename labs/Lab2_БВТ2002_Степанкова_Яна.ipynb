{
 "cells": [
  {
   "cell_type": "markdown",
   "metadata": {},
   "source": [
    "# Лабораторная работа №2 Методы поиска.\n",
    "##### Выполнила студентка группы БВТ2002 Степанкова Яна\n",
    "##### Реализовать методы поиска в соответствии с заданием. Организовать генерацию начального набора случайных данных. Для всех вариантов добавить реализацию добавлния, поиска и удаления элементов. Оценить время работы и сравнить его со временем работы стандартной функции поиска.\n",
    "## Задание №1"
   ]
  },
  {
   "cell_type": "markdown",
   "metadata": {},
   "source": [
    "##### Организация начального набора случайных данных."
   ]
  },
  {
   "cell_type": "code",
   "execution_count": 10,
   "metadata": {},
   "outputs": [
    {
     "name": "stdout",
     "output_type": "stream",
     "text": [
      "[38, 42, 56, 58, 169, 188, 195, 197, 202, 233, 261, 576, 577, 619, 627, 669, 735, 759, 793, 872, 874, 878, 1002, 1004, 1043, 1065, 1068, 1115, 1159, 1164, 1225, 1251, 1257, 1291, 1291, 1335, 1439, 1464, 1473, 1510, 1564, 1575, 1586, 1600, 1611, 1631, 1637, 1642, 1642, 1693, 1712, 1721, 1740, 1749, 1801, 1809, 1876, 1883, 1936, 1954, 1958, 1994, 2029, 2080, 2095, 2137, 2168, 2179, 2208, 2272, 2276, 2359, 2424, 2426, 2432, 2436, 2441, 2467, 2581, 2665, 2710, 2741, 2756, 2817, 2824, 2960, 2983, 3037, 3075, 3118, 3125, 3249, 3293, 3308, 3337, 3540, 3546, 3559, 3648, 3654, 3722, 3786, 3789, 3860, 3862, 3862, 3872, 3878, 3965, 4000, 4110, 4114, 4180, 4350, 4367, 4419, 4464, 4505, 4545, 4569, 4588, 4668, 4737, 4785, 4786, 4816, 4838, 4871, 4891, 4911, 4953, 4956, 4967, 4978, 4983, 5001, 5041, 5042, 5059, 5100, 5140, 5159, 5248, 5259, 5268, 5275, 5279, 5364, 5390, 5425, 5562, 5613, 5630, 5666, 5672, 5701, 5738, 5743, 5769, 5775, 5820, 5835, 5864, 5906, 5949, 5971, 6010, 6108, 6112, 6122, 6192, 6210, 6224, 6239, 6266, 6298, 6326, 6362, 6365, 6388, 6453, 6509, 6518, 6566, 6592, 6599, 6653, 6655, 6662, 6662, 6670, 6702, 6725, 6734, 6765, 6769, 6800, 6813, 6830, 6920, 6983, 7003, 7030, 7046, 7069, 7070, 7127, 7137, 7142, 7171, 7172, 7279, 7280, 7311, 7334, 7404, 7421, 7422, 7444, 7462, 7503, 7539, 7569, 7579, 7584, 7641, 7645, 7660, 7676, 7727, 7745, 7807, 7865, 7929, 7933, 7949, 7951, 7953, 7974, 7997, 8003, 8062, 8077, 8165, 8257, 8294, 8334, 8349, 8375, 8379, 8382, 8455, 8470, 8499, 8502, 8536, 8654, 8692, 8809, 8867, 8900, 8918, 8925, 8940, 8944, 8981, 9075, 9098, 9108, 9202, 9272, 9279, 9314, 9360, 9374, 9425, 9456, 9473, 9540, 9545, 9573, 9623, 9690, 9702, 9704, 9730, 9731, 9742, 9743, 9777, 9789, 9802, 9814, 9822, 9826, 9894, 9955, 9967, 9982, 9998]\n",
      "261\n"
     ]
    }
   ],
   "source": [
    "from random import randint\n",
    "\n",
    "mat=[]\n",
    "n = int(input())\n",
    "for i in range(n):\n",
    "    mat.append(randint(0,10000))\n",
    "mat.sort()\n",
    "print(mat)\n",
    "\n",
    "#искомое значение\n",
    "value = int(input())\n",
    "print(value)"
   ]
  },
  {
   "cell_type": "markdown",
   "metadata": {},
   "source": [
    "### Бинарный поиск\n",
    "##### Бинарный поиск работает по принципу «разделяй и властвуй». Он быстрее, чем линейный поиск, но требует, чтобы массив был отсортирован перед выполнением алгоритма."
   ]
  },
  {
   "cell_type": "code",
   "execution_count": 11,
   "metadata": {},
   "outputs": [],
   "source": [
    "import time"
   ]
  },
  {
   "cell_type": "code",
   "execution_count": 12,
   "metadata": {},
   "outputs": [
    {
     "name": "stdout",
     "output_type": "stream",
     "text": [
      "10\n",
      "time:  0.0\n"
     ]
    }
   ],
   "source": [
    "start_time=time.time()\n",
    "def BinarySearch(mat, value):\n",
    "    first = 0\n",
    "    last = len(mat)-1\n",
    "    index = -1\n",
    "    while (first <= last) and (index == -1):\n",
    "        mid = (first + last)//2\n",
    "        if mat[mid] == value:\n",
    "            index = mid\n",
    "        else:\n",
    "            if value < mat[mid]:\n",
    "                last = mid -1\n",
    "            else:\n",
    "                first = mid +1\n",
    "    return index\n",
    "print(BinarySearch(mat, value))\n",
    "print(\"time: \", time.time() - start_time)"
   ]
  },
  {
   "cell_type": "markdown",
   "metadata": {},
   "source": [
    "### Фибоначчиев поиск\n",
    "##### Он получил свое название потому, что использует числа Фибоначчи для вычисления размера блока или диапазона поиска на каждом шаге."
   ]
  },
  {
   "cell_type": "code",
   "execution_count": 13,
   "metadata": {},
   "outputs": [
    {
     "name": "stdout",
     "output_type": "stream",
     "text": [
      "10\n",
      "time:  0.0010006427764892578\n"
     ]
    }
   ],
   "source": [
    "start_time=time.time()\n",
    "def FibonacciSearch(mat, value):\n",
    "    # Два числа Фибоначчи непосредственно перед fibM\n",
    "    fibM_minus_2 = 0\n",
    "    fibM_minus_1 = 1\n",
    "    fibM = fibM_minus_1 + fibM_minus_2\n",
    "    while (fibM < len(mat)):\n",
    "        fibM_minus_2 = fibM_minus_1\n",
    "        fibM_minus_1 = fibM\n",
    "        fibM = fibM_minus_1 + fibM_minus_2\n",
    "    index = -1;\n",
    "    while (fibM > 1):\n",
    "        i = min(index + fibM_minus_2, (len(mat)-1))\n",
    "        if (mat[i] < value):\n",
    "            fibM = fibM_minus_1\n",
    "            fibM_minus_1 = fibM_minus_2\n",
    "            fibM_minus_2 = fibM - fibM_minus_1\n",
    "            index = i\n",
    "        elif (mat[i] > value):\n",
    "            fibM = fibM_minus_2\n",
    "            fibM_minus_1 = fibM_minus_1 - fibM_minus_2\n",
    "            fibM_minus_2 = fibM - fibM_minus_1\n",
    "        else :\n",
    "            return i\n",
    "    if (fibM_minus_1 and index < (len(mat)-1) and mat[index+1] == value):\n",
    "        return index + 1;\n",
    "    return -1\n",
    "print(FibonacciSearch(mat, value))\n",
    "print(\"time: \", time.time() - start_time)"
   ]
  },
  {
   "cell_type": "markdown",
   "metadata": {},
   "source": [
    "### Интерполяционный поиск\n",
    "##### Интерполяционный поиск — это еще один алгоритм «разделяй и властвуй», аналогичный бинарному поиску. В отличие от бинарного поиска, он не всегда начинает поиск с середины. "
   ]
  },
  {
   "cell_type": "code",
   "execution_count": 14,
   "metadata": {},
   "outputs": [
    {
     "name": "stdout",
     "output_type": "stream",
     "text": [
      "10\n",
      "time:  0.0\n"
     ]
    }
   ],
   "source": [
    "start_time=time.time()\n",
    "def InterpolationSearch(mat, value):\n",
    "    low = 0 # Начальный индекс массива\n",
    "    high = (len(mat) - 1) # Последний индекс массива\n",
    "    while low <= high and value >= mat[low] and value <= mat[high]:\n",
    "        # Интерполяционный поиск вычисляет вероятную позицию искомого элемента по формуле:\n",
    "        index = low + int(((float(high - low) / (mat[high] - mat[low])) * (value - mat[low])))\n",
    "        if mat[index] == value:\n",
    "            return index\n",
    "        if mat[index] < value:\n",
    "            # Значение индекса пересчитывается по формуле для левого подмассива\n",
    "            low = index + 1;\n",
    "        else:\n",
    "            # Значение индекса пересчитывается по формуле для правого подмассива\n",
    "            high = index - 1;\n",
    "    return -1\n",
    "print(InterpolationSearch(mat, value))\n",
    "print(\"time: \", time.time() - start_time)"
   ]
  },
  {
   "cell_type": "markdown",
   "metadata": {},
   "source": [
    "##### Время бинарного поиска: 0.001 s\n",
    "##### Время фибоначчиева поиска: 0.00102 s\n",
    "##### Время интерполяционный поиска: 0.001 s\n"
   ]
  },
  {
   "cell_type": "markdown",
   "metadata": {},
   "source": [
    "### Бинарное дерево"
   ]
  },
  {
   "cell_type": "code",
   "execution_count": 15,
   "metadata": {},
   "outputs": [
    {
     "name": "stdout",
     "output_type": "stream",
     "text": [
      "Нет элемента 649\n",
      "time:  13.393726110458374\n"
     ]
    }
   ],
   "source": [
    "start_time = time.time()\n",
    "class Node:\n",
    "    def __init__(self, value):\n",
    "        self.left = None\n",
    "        self.right = None\n",
    "        self.value = value\n",
    "\n",
    "class BinaryTree:\n",
    "    def __init__(self):\n",
    "        self.root = None\n",
    "\n",
    "    def getRoot(self):\n",
    "        return self.root\n",
    "\n",
    "    def addElement(self, value):\n",
    "        if self.root is None:\n",
    "            self.root = Node(value)\n",
    "        else:\n",
    "            self._addElement(value, self.root)\n",
    "\n",
    "    def _addElement(self, value, node):\n",
    "        if value < node.value:\n",
    "            if node.left is not None:\n",
    "                self._addElement(value, node.left)\n",
    "            else:\n",
    "                node.left = Node(value)\n",
    "        else:\n",
    "            if node.right is not None:\n",
    "                self._addElement(value, node.right)\n",
    "            else:\n",
    "                node.right = Node(value)\n",
    "\n",
    "    def findElement(self, value):\n",
    "        if self.root is not None:\n",
    "            return self._findElement(value, self.root)\n",
    "        else:\n",
    "            return None\n",
    "\n",
    "    def _findElement(self, value, node):\n",
    "        if value == node.value:\n",
    "            return node\n",
    "        elif (value < node.value and node.left is not None):\n",
    "            return self._findElement(value, node.left)\n",
    "        elif (value > node.value and node.right is not None):\n",
    "            return self._findElement(value, node.right)\n",
    "        \n",
    "    def deleteValue(self, value):\n",
    "        global a\n",
    "        global tree\n",
    "        while value in a:\n",
    "            a.remove(value)\n",
    "        new_tree = BinaryTree()\n",
    "        for number in a:\n",
    "            new_tree.addElement(number)\n",
    "        tree = new_tree\n",
    "        \n",
    "tree = BinaryTree()\n",
    "mass=[]\n",
    "n = int(input())\n",
    "for i in range(n):\n",
    "    mass.append(randint(0,1000))\n",
    "for i in range(len(mass)):\n",
    "    tree.addElement(mass[i])\n",
    "element = randint(0,1000)\n",
    "if tree.findElement(element) is None:\n",
    "    print(\"Нет элемента\", element)\n",
    "else: \n",
    "    print(\"Элемент\", element, \"найден\")\n",
    "print(\"time: \", time.time() - start_time)\n"
   ]
  },
  {
   "cell_type": "markdown",
   "metadata": {},
   "source": [
    "## Задание №2\n",
    "##### Реализовать три метода рехэширования"
   ]
  },
  {
   "cell_type": "markdown",
   "metadata": {},
   "source": [
    "### Простое рехешировние\n"
   ]
  },
  {
   "cell_type": "code",
   "execution_count": null,
   "metadata": {},
   "outputs": [],
   "source": []
  }
 ],
 "metadata": {
  "interpreter": {
   "hash": "ef505c15dbd301faf2cdc6f99e22739808c78a6970314a470bf8f7de97884d8c"
  },
  "kernelspec": {
   "display_name": "Python 3.9.6 64-bit",
   "language": "python",
   "name": "python3"
  },
  "language_info": {
   "codemirror_mode": {
    "name": "ipython",
    "version": 3
   },
   "file_extension": ".py",
   "mimetype": "text/x-python",
   "name": "python",
   "nbconvert_exporter": "python",
   "pygments_lexer": "ipython3",
   "version": "3.9.6"
  },
  "orig_nbformat": 4
 },
 "nbformat": 4,
 "nbformat_minor": 2
}
