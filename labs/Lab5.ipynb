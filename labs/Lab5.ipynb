{
 "cells": [
  {
   "cell_type": "markdown",
   "metadata": {
    "id": "WPvB9TcMmKA6"
   },
   "source": [
    "# Лабораторная работа №5\n",
    "# Рекурсия. Фракталы."
   ]
  },
  {
   "cell_type": "markdown",
   "metadata": {
    "id": "96Gi_LEvmSVH"
   },
   "source": [
    "## Выполнил студентка группы БВТ2002 Степанкова Яна\n",
    "***"
   ]
  },
  {
   "cell_type": "markdown",
   "metadata": {
    "id": "4clYOyb0mbEv"
   },
   "source": [
    "### Задание:\n",
    "Реализовать генерацию заданного типа фрактала с применением рекурсивных функций.\n",
    "\n",
    "\n",
    "Добавить возможность задания глубины фрактала. \n",
    "\n",
    "\n",
    "Оценить глубину рекурсии. \n",
    "\n",
    "\n",
    "Построить таблицу зависимости времени построения от глубины фрактала."
   ]
  },
  {
   "cell_type": "markdown",
   "metadata": {
    "id": "wDXHbUmMmhRL"
   },
   "source": [
    "### Список фракталов:\n",
    "\n",
    "Кривая Коха\n",
    "| Кривая Гильберта\n",
    "| Кривая Серпинского\n",
    "| Салфетка Серпинского\n",
    "| Ковер Серпинского\n",
    "| Дерево Пифагора "
   ]
  },
  {
   "cell_type": "markdown",
   "metadata": {
    "id": "Wggfn8l7nG72"
   },
   "source": [
    "### Выполнение:"
   ]
  },
  {
   "cell_type": "code",
   "execution_count": null,
   "metadata": {},
   "outputs": [],
   "source": [
    "from turtle import *\n",
    "import turtle\n",
    "import time"
   ]
  },
  {
   "cell_type": "code",
   "execution_count": null,
   "metadata": {
    "id": "681a95mZnOSa"
   },
   "outputs": [],
   "source": [
    "# Кривая Коха\n",
    "start_time = time.time()\n",
    "penup()\n",
    "goto(-200, 0)\n",
    "pendown()\n",
    "speed(100)\n",
    " \n",
    "def Koch_Line(l ,n):\n",
    "    if n == 0:\n",
    "        forward(l)\n",
    "        return\n",
    "    l //= 3\n",
    "    Koch_Line(l, n-1)\n",
    "    left(60)\n",
    "    Koch_Line(l, n-1)\n",
    "    right(120)\n",
    "    Koch_Line(l, n-1)\n",
    "    left(60)\n",
    "    Koch_Line(l, n-1)\n",
    "\n",
    "Koch_Line(400, 4)\n",
    "print(\"time: \",\"%s seconds\" % (time.time() - start_time))"
   ]
  },
  {
   "cell_type": "code",
   "execution_count": null,
   "metadata": {},
   "outputs": [],
   "source": [
    "# Кривая Гильберта\n",
    "start_time = time.time()\n",
    "size = 10\n",
    "depth = 4\n",
    "speed(1000)\n",
    "hideturtle()\n",
    "\n",
    "def hilbert_curve(size, parity, depth):\n",
    "    if depth < 1:\n",
    "        return\n",
    "    left(parity * 90)\n",
    "    hilbert_curve(size, - parity, depth - 1)\n",
    "    forward(size)\n",
    "    turtle.right(parity * 90)\n",
    "    hilbert_curve(size, parity, depth - 1)\n",
    "    forward(size)\n",
    "    hilbert_curve(size, parity, depth - 1)\n",
    "    right(parity * 90)\n",
    "    forward(size)\n",
    "    hilbert_curve(size, - parity, depth - 1)\n",
    "    left(parity * 90)\n",
    "\n",
    "hilbert_curve(size, 1, depth)\n",
    "print(\"time: \",\"%s seconds\" % (time.time() - start_time))"
   ]
  },
  {
   "cell_type": "code",
   "execution_count": null,
   "metadata": {},
   "outputs": [],
   "source": [
    "# Кривая Серпинского\n",
    "start_time = time.time()\n",
    "size = 4\n",
    "depth = 3\n",
    "speed(1000)\n",
    "hideturtle()\n",
    "\n",
    "def half_sierpinski(size, depth):\n",
    "    if depth == 0:\n",
    "        forward(size)\n",
    "    else:\n",
    "        half_sierpinski(size, depth-1)\n",
    "        left(45)\n",
    "        forward(size*(2)**0.5)\n",
    "        left(45)\n",
    "        half_sierpinski(size, depth-1)\n",
    "        right(90)\n",
    "        forward(size)\n",
    "        right(90)\n",
    "        half_sierpinski(size, depth-1)\n",
    "        left(45)\n",
    "        forward(size*(2)**0.5)\n",
    "        left(45)\n",
    "        half_sierpinski(size, depth-1)     \n",
    "    return\n",
    "\n",
    "def sierpinski_curve(size, depth):\n",
    "    half_sierpinski(size, depth)\n",
    "    right(90)\n",
    "    forward(size)\n",
    "    right(90)\n",
    "    half_sierpinski(size, depth)\n",
    "    right(90)\n",
    "    forward(size)\n",
    "    right(90)\n",
    "    return\n",
    "\n",
    "sierpinski_curve(size, depth)\n",
    "print(\"time: \",\"%s seconds\" % (time.time() - start_time))"
   ]
  },
  {
   "cell_type": "code",
   "execution_count": null,
   "metadata": {},
   "outputs": [],
   "source": [
    "# Салфетка Серпинского\n",
    "start_time = time.time()\n",
    "right(30)\n",
    "pu()\n",
    "ht()\n",
    "shape('triangle')\n",
    "speed(100)\n",
    "\n",
    "def sierpinski(size, order):\n",
    "    if order == 0:\n",
    "        stamp()\n",
    "    else:\n",
    "        for i in range(0, 3):\n",
    "            forward(size)\n",
    "            sierpinski(size/2, order-1)\n",
    "            backward(size)\n",
    "            left(120)\n",
    "\n",
    "sierpinski(100, 4)\n",
    "print(\"time: \",\"%s seconds\" % (time.time() - start_time))"
   ]
  },
  {
   "cell_type": "code",
   "execution_count": null,
   "metadata": {},
   "outputs": [],
   "source": [
    "# Ковёр Серпинского\n",
    "start_time = time.time()\n",
    "def s(n, m):\n",
    "    if n == 0:\n",
    "        color('black')\n",
    "        begin_fill()\n",
    "        for _ in range(4):\n",
    "            forward(m)\n",
    "            left(90)\n",
    "        end_fill()\n",
    "    else:\n",
    "        for _ in range(4):\n",
    "            s(n - 1, m / 3)\n",
    "            forward(m / 3)\n",
    "            s(n - 1, m / 3)\n",
    "            forward(m / 3)\n",
    "            forward(m / 3)\n",
    "            left(90)\n",
    "\n",
    "tracer(10)\n",
    "s(5, 400)\n",
    "done()\n",
    "print(\"time: \",\"%s seconds\" % (time.time() - start_time))"
   ]
  },
  {
   "cell_type": "code",
   "execution_count": null,
   "metadata": {},
   "outputs": [],
   "source": [
    "# Дерево Пифагора\n",
    "start_time = time.time()\n",
    "speed(100)\n",
    "def bintree(size):\n",
    "    angle = 60 # The angle of bifurcation\n",
    "    if size > 5: # Length exit condition\n",
    "        forward(size)\n",
    "        left(angle)\n",
    "        bintree(size / 1.6)\n",
    "        right(angle*2)\n",
    "        bintree(size / 1.6)\n",
    "        left(angle)\n",
    "        backward(size)\n",
    "        \n",
    "def derevo():\n",
    "    speed(0)\n",
    "    hideturtle()\n",
    "    penup()\n",
    "    left(90)\n",
    "    backward(100)\n",
    "    showturtle()\n",
    "    pendown()\n",
    "    pensize(2)\n",
    "    bintree(150)\n",
    "    done()\n",
    "\n",
    "derevo()\n",
    "print(\"time: \",\"%s seconds\" % (time.time() - start_time))"
   ]
  }
 ],
 "metadata": {
  "colab": {
   "collapsed_sections": [],
   "name": "Lab5.ipynb",
   "provenance": []
  },
  "kernelspec": {
   "display_name": "Python 3 (ipykernel)",
   "language": "python",
   "name": "python3"
  },
  "language_info": {
   "codemirror_mode": {
    "name": "ipython",
    "version": 3
   },
   "file_extension": ".py",
   "mimetype": "text/x-python",
   "name": "python",
   "nbconvert_exporter": "python",
   "pygments_lexer": "ipython3",
   "version": "3.9.6"
  }
 },
 "nbformat": 4,
 "nbformat_minor": 1
}
