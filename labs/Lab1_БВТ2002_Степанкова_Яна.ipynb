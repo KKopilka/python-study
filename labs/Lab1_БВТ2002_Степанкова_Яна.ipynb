{
 "cells": [
  {
   "cell_type": "markdown",
   "id": "b979c71e",
   "metadata": {},
   "source": [
    "# Лабораторная работа №1 Методы сортировки.\n",
    "##### Выполнила студентка группы БВТ2002 Степанкова Яна\n",
    "## Заданий №1\n",
    "##### В созданной ячейке написать \"Hello, World!\" и запустить код."
   ]
  },
  {
   "cell_type": "code",
   "execution_count": 305,
   "id": "48c01169",
   "metadata": {},
   "outputs": [
    {
     "name": "stdout",
     "output_type": "stream",
     "text": [
      "Hello, World!\n"
     ]
    }
   ],
   "source": [
    "print(\"Hello, World!\")"
   ]
  },
  {
   "cell_type": "markdown",
   "id": "c0381109",
   "metadata": {},
   "source": [
    "## Задание №2\n",
    "##### Написать генератор случайных матриц(многомерных), который принимает опциональные параметры m, n, min_limit, max_limit."
   ]
  },
  {
   "cell_type": "code",
   "execution_count": 306,
   "id": "d645dc93",
   "metadata": {},
   "outputs": [
    {
     "name": "stdout",
     "output_type": "stream",
     "text": [
      "Matrix:\n",
      "[381, 1, 1010, -14, 380]\n",
      "[456, 792, 740, -147, -120]\n",
      "[98, 138, 976, 556, 619]\n",
      "[378, 21, 789, 22, 165]\n"
     ]
    }
   ],
   "source": [
    "import random \n",
    "\n",
    "n = 5\n",
    "m = 4\n",
    "min_lim = -250\n",
    "max_lim = 1020\n",
    "\n",
    "matrix = [ [ random.randint(min_lim, max_lim) for j in range(n)] for i in range(m) ]\n",
    "print('Matrix:')\n",
    "\n",
    "for i in range(m):\n",
    "    print(matrix[i])"
   ]
  },
  {
   "cell_type": "markdown",
   "id": "ffecf55f",
   "metadata": {},
   "source": [
    "## Задание №3\n",
    "##### Реализовать методы сортировки строк числовой матрицы в соответствии с заданием. Оценить время работы каждого алгоритма сортировки и сравнить его со временем стандартной функции сортировки. Испытания проводить на сгенерированных матрицах."
   ]
  },
  {
   "cell_type": "code",
   "execution_count": 307,
   "metadata": {},
   "outputs": [],
   "source": [
    "import time"
   ]
  },
  {
   "cell_type": "markdown",
   "id": "413ddbe0",
   "metadata": {},
   "source": [
    "##### Стандартная функция сортировки\n"
   ]
  },
  {
   "cell_type": "code",
   "execution_count": 371,
   "id": "59153473",
   "metadata": {},
   "outputs": [
    {
     "name": "stdout",
     "output_type": "stream",
     "text": [
      "time:  0.0010020732879638672\n"
     ]
    }
   ],
   "source": [
    "start_time = time.time()\n",
    "def sort_matrix(matrix):\n",
    "    for i in range(m):\n",
    "        matrix[i].sort()\n",
    "    return matrix\n",
    "\n",
    "sort_matrix(matrix)\n",
    "print(\"time: \", time.time() - start_time)"
   ]
  },
  {
   "cell_type": "markdown",
   "id": "ef9c08bc",
   "metadata": {},
   "source": [
    "### Сортировка выбором\n",
    "##### Это алгоритм сортировки последовательности, например, массива или списка, путем постепенных перестановок наименьших элементов в начало списка или наибольших в конец.\n",
    "Сложность: O(n^2)"
   ]
  },
  {
   "cell_type": "code",
   "execution_count": 351,
   "id": "16ce0ed6",
   "metadata": {
    "scrolled": true
   },
   "outputs": [
    {
     "name": "stdout",
     "output_type": "stream",
     "text": [
      "time:  0.00099945068359375\n"
     ]
    }
   ],
   "source": [
    "#сортировка выбором\n",
    "start_time = time.time()\n",
    "def selection_sort(matrix):\n",
    "    for i in range(len(matrix)):\n",
    "        j = 0\n",
    "        while j < len(matrix[i]) - 1:\n",
    "            t = j\n",
    "            k = j + 1\n",
    "            while k < len(matrix[i]):\n",
    "                if matrix[i][k] < matrix[i][t]:\n",
    "                    t = k\n",
    "                k += 1\n",
    "            matrix[i][j], matrix[i][t] = matrix[i][t], matrix[i][j]\n",
    "            j += 1\n",
    "    return matrix\n",
    "        \n",
    "selection_sort(matrix)\n",
    "print(\"time: \", time.time() - start_time)"
   ]
  },
  {
   "cell_type": "markdown",
   "id": "585d5a51",
   "metadata": {},
   "source": [
    "### Сортировка вставкой\n",
    "##### Простой алгоритм сортировки, при которой очередной элемент добавляется всегда в конец списка, а затем перемещается в начало списка до тех пор, пока он меньше предыдущего элемента.\n"
   ]
  },
  {
   "cell_type": "code",
   "execution_count": 354,
   "id": "55754385",
   "metadata": {},
   "outputs": [
    {
     "name": "stdout",
     "output_type": "stream",
     "text": [
      "time:  0.0009908676147460938\n"
     ]
    }
   ],
   "source": [
    "#сортировка вставкой\n",
    "start_time = time.time()\n",
    "def insertion_sort(matrix):\n",
    "    for i in range(len(matrix)):\n",
    "        for j in range(1, len(matrix[i])):\n",
    "            temp = matrix[i][j]\n",
    "            k = j - 1\n",
    "            while (k >= 0 and temp < matrix[i][k]):\n",
    "                # Меняем местами число, продвигая по списку\n",
    "                matrix[i][k + 1] = matrix[i][k]\n",
    "                k -= 1\n",
    "            # Остановимся и сделаем последний обмен\n",
    "            matrix[i][k + 1] = temp\n",
    "    return matrix   \n",
    "\n",
    "insertion_sort(matrix)\n",
    "print(\"time: \", time.time() - start_time)"
   ]
  },
  {
   "cell_type": "markdown",
   "id": "3060eba8",
   "metadata": {},
   "source": [
    "### Сортировка обменом / Пузырьковая сортировка\n",
    "##### Представляет собой простой алгоритм сортировки, который многократно шагает по списку, сравнивает соседние элементы и меняет их местами, если они находятся в неправильном порядке.\n"
   ]
  },
  {
   "cell_type": "code",
   "execution_count": 361,
   "id": "bb4dc427",
   "metadata": {},
   "outputs": [
    {
     "name": "stdout",
     "output_type": "stream",
     "text": [
      "time:  0.0010006427764892578\n"
     ]
    }
   ],
   "source": [
    "#сортировка обменом\n",
    "start_time = time.time()\n",
    "def bubble_sort(matrix):\n",
    "    for i in range(len(matrix)):\n",
    "        for j in range(len(matrix) - 1):\n",
    "            for k in range(len(matrix) - j - 1):\n",
    "                if matrix[i][k] > matrix[i][k + 1]:\n",
    "                    swapped = matrix[i][k]\n",
    "                    matrix[i][k] = matrix[i][k + 1]\n",
    "                    matrix[i][k + 1] = swapped\n",
    "    return matrix\n",
    "bubble_sort(matrix)\n",
    "print(\"time: \", time.time() - start_time)"
   ]
  },
  {
   "cell_type": "markdown",
   "id": "d2dddbbe",
   "metadata": {},
   "source": [
    "### Сортировка Шелла\n",
    "##### Алгоритм сортировки, являющийся усовершенствованным вариантом сортировки вставками. Идея метода Шелла состоит в сравнении элементов, стоящих не только рядом, но и на определённом расстоянии друг от друга. Иными словами — это сортировка вставками с предварительными «грубыми» проходами. \n"
   ]
  },
  {
   "cell_type": "code",
   "execution_count": 324,
   "id": "77312842",
   "metadata": {},
   "outputs": [
    {
     "name": "stdout",
     "output_type": "stream",
     "text": [
      "time:  0.001003265380859375\n"
     ]
    }
   ],
   "source": [
    "#сортировка Шелла\n",
    "start_time = time.time()\n",
    "def shell_sort(matrix):\n",
    "    for i in range(len(matrix)):\n",
    "        last_num = len(matrix) - 1\n",
    "        # Диапазон массива\n",
    "        step = len(matrix)//2\n",
    "        while step > 0:\n",
    "            for j in range(step, last_num + 1, 1):\n",
    "                current_num = j\n",
    "                pos = current_num - step # Значение индекса элемента\n",
    "                while pos >= 0 and matrix[i][pos] > matrix[i][current_num]:\n",
    "                    matrix[i][pos], matrix[i][current_num] = matrix[i][current_num], matrix[i][pos]\n",
    "                    current_num = pos\n",
    "                    pos = current_num - step\n",
    "            step //= 2\n",
    "    return matrix\n",
    "\n",
    "shell_sort(matrix) \n",
    "print(\"time: \", time.time() - start_time)"
   ]
  },
  {
   "cell_type": "markdown",
   "id": "b03e4b90",
   "metadata": {},
   "source": [
    "### Турнирная сортировка\n",
    "\n"
   ]
  },
  {
   "cell_type": "code",
   "execution_count": 362,
   "id": "fee41e17",
   "metadata": {},
   "outputs": [
    {
     "name": "stdout",
     "output_type": "stream",
     "text": [
      "time:  0.002001523971557617\n"
     ]
    }
   ],
   "source": [
    "#турнирная сортировка\n",
    "start_time = time.time()\n",
    "def tur_sort(matrix):\n",
    "    class Heap:\n",
    "        def __init__(self, matrix):\n",
    "            self.container = matrix.copy()\n",
    "            self.sorted = []\n",
    "\n",
    "        def heap_sort(self):\n",
    "            n = len(self.container)\n",
    "            self.container[0], self.container[b - 1] = self.container[n - 1], self.container[0]\n",
    "            self.container.pop(n - 1)\n",
    "            self.heapify(0)\n",
    "\n",
    "        def heapify(self, n, i):\n",
    "            largest = i\n",
    "            left = 2*i+1\n",
    "            right = 2*i+2\n",
    "\n",
    "            if left < len(self.container) and self.container[left] > self.container[largest]:\n",
    "                largest = left\n",
    "            if right < len(self.container) and self.container[right] > self.container[largest]:   \n",
    "                largest = right\n",
    "\n",
    "            if largest != i:\n",
    "                self.container[i], self.container[largest] = self.container[largest], self.container[i]  \n",
    "                self.heapify(largest)\n",
    "\n",
    "        def build_heap(self):\n",
    "            n = len(self.container)\n",
    "            for i in range(n//2 - 1, -1, -1):\n",
    "                self.heapify(i)    \n",
    "    i = 0\n",
    "    for n in matrix:\n",
    "        heap = Heap(n)\n",
    "        heap.build_heap()\n",
    "        heap.sort()\n",
    "        matrix[i] = list(reversed(heap.sorted))\n",
    "        i += 1\n",
    "    return matrix\n",
    "print(\"time: \", time.time() - start_time)"
   ]
  },
  {
   "cell_type": "markdown",
   "id": "f3c664ec",
   "metadata": {},
   "source": [
    "### Быстрая сортировка\n",
    "##### Быстрая сортировка представляет собой усовершенствованный метод сортировки, основанный на принципе обмена.\n"
   ]
  },
  {
   "cell_type": "code",
   "execution_count": 368,
   "id": "ce010ec9",
   "metadata": {},
   "outputs": [
    {
     "name": "stdout",
     "output_type": "stream",
     "text": [
      "time:  0.0010066032409667969\n"
     ]
    }
   ],
   "source": [
    "#быстрая сортировка \n",
    "start_time = time.time()\n",
    "def quick_sort(num):\n",
    "    # Выбирается один опорный элемент\n",
    "    if len(num) <= 1:\n",
    "        return num\n",
    "    else:\n",
    "        # Рандом\n",
    "        q = random.choice(num)\n",
    "    # Все элементы меньше опорного перемешаются слева от него, остальные — направо\n",
    "    l_num = [n for n in num if n < q]\n",
    "    \n",
    "    e_num = [q] * num.count(q)\n",
    "    b_num = [n for n in num if n > q]\n",
    "    return quick_sort(l_num) + e_num + quick_sort(b_num)   \n",
    "    \n",
    "quick_sort(matrix)\n",
    "print(\"time: \", time.time() - start_time)"
   ]
  },
  {
   "cell_type": "markdown",
   "id": "65332259",
   "metadata": {},
   "source": [
    "### Пирамидальная сортировка\n",
    "##### Это метод сортировки сравнением, основанный на такой структуре данных как двоичная куча. Она похожа на сортировку выбором, где мы сначала ищем максимальный элемент и помещаем его в конец. Далее мы повторяем ту же операцию для оставшихся элементов.\n"
   ]
  },
  {
   "cell_type": "code",
   "execution_count": 328,
   "id": "46c84da8",
   "metadata": {},
   "outputs": [
    {
     "name": "stdout",
     "output_type": "stream",
     "text": [
      "time:  0.0010051727294921875\n"
     ]
    }
   ],
   "source": [
    "#пирамидальная сортировка\n",
    "start_time = time.time()\n",
    "# Процедура для преобразования в двоичную кучу поддерева с корневым узлом i, что является индексом в arr[]. n - размер кучи\n",
    "def heapify(matrix, n, i):\n",
    "    largest = i \n",
    "    l = 2 * i + 1   \n",
    "    r = 2 * i + 2   \n",
    "\n",
    "  # Проверяем существует ли левый дочерний элемент больший, чем корень\n",
    "\n",
    "    if l < n and matrix[i] < matrix[l]:\n",
    "        largest = l\n",
    "\n",
    "    # Проверяем существует ли правый дочерний элемент больший, чем корень\n",
    "\n",
    "    if r < n and matrix[largest] < matrix[r]:\n",
    "        largest = r\n",
    "\n",
    "    # Заменяем корень, если нужно\n",
    "    if largest != i:\n",
    "        matrix[i],matrix[largest] = matrix[largest],matrix[i] # свап\n",
    "\n",
    "        # Применяем heapify к корню.\n",
    "        heapify(matrix, n, largest)\n",
    "        \n",
    "# Основная функция для сортировки массива заданного размера\n",
    "def heapSort(matrix):\n",
    "    n = len(matrix)\n",
    "\n",
    "    # Построение max-heap.\n",
    "    for i in range(n, -1, -1):\n",
    "        heapify(matrix, n, i)\n",
    "\n",
    "    # Один за другим извлекаем элементы\n",
    "    for i in range(n-1, 0, -1):\n",
    "        matrix[i], matrix[0] = matrix[0], matrix[i] # свап \n",
    "        heapify(matrix, i, 0)\n",
    "    return matrix\n",
    "\n",
    "heapSort(matrix)  \n",
    "print(\"time: \", time.time() - start_time)"
   ]
  },
  {
   "cell_type": "markdown",
   "id": "a83f5aeb",
   "metadata": {},
   "source": [
    "## Вывод\n",
    "##### В ходе выболнения лабораторной работы, было установлено время выполнения всех видов сортировок:\n",
    "##### 1) стандартная - 0,001002 s\n",
    "##### 2) сортировка выбором - 0,001007 s\n",
    "##### 3) сортировка выбором - 0,0009 s\n",
    "##### 4) сортировка вставкой - 0,0009 s\n",
    "##### 5) сортировка обменом - 0,00100... s\n",
    "##### 6) сортировка Шелла - 0,001003 s\n",
    "##### 7) Турнирная сортировка - 0,002 s\n",
    "##### 8) Быстрая сортировка - 0,001006 s\n",
    "##### 9) Пирамидальная сортировка - 0,001005 s"
   ]
  }
 ],
 "metadata": {
  "kernelspec": {
   "display_name": "Python 3",
   "language": "python",
   "name": "python3"
  },
  "language_info": {
   "codemirror_mode": {
    "name": "ipython",
    "version": 3
   },
   "file_extension": ".py",
   "mimetype": "text/x-python",
   "name": "python",
   "nbconvert_exporter": "python",
   "pygments_lexer": "ipython3",
   "version": "3.9.6"
  },
  "widgets": {
   "application/vnd.jupyter.widget-state+json": {
    "state": {},
    "version_major": 2,
    "version_minor": 0
   }
  }
 },
 "nbformat": 4,
 "nbformat_minor": 5
}
