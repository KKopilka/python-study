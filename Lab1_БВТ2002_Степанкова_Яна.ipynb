{
 "cells": [
  {
   "cell_type": "markdown",
   "id": "b979c71e",
   "metadata": {},
   "source": [
    "# Лабораторная работа №1\n",
    "## Выполнила студентка группы БВТ2002 Степанкова Яна\n",
    "### Заданий №1\n",
    "### В созданной ячейке написать \"Hello, World!\" и запустить код."
   ]
  },
  {
   "cell_type": "code",
   "execution_count": 1,
   "id": "48c01169",
   "metadata": {},
   "outputs": [
    {
     "name": "stdout",
     "output_type": "stream",
     "text": [
      "Hello, World!\n"
     ]
    }
   ],
   "source": [
    "print(\"Hello, World!\")"
   ]
  },
  {
   "cell_type": "markdown",
   "id": "c0381109",
   "metadata": {},
   "source": [
    "### Задание №2\n",
    "### Написать генератор случайных матриц(многомерных), который принимает опциональные параметры m, n, min_limit, max_limit."
   ]
  },
  {
   "cell_type": "code",
   "execution_count": 2,
   "id": "e97e6447",
   "metadata": {
    "scrolled": true
   },
   "outputs": [],
   "source": [
    "my_m = int(input())\n",
    "my_n = int(input())\n",
    "my_min_lim = int(input())\n",
    "my_max_lim = int(input())"
   ]
  },
  {
   "cell_type": "code",
   "execution_count": 3,
   "id": "d645dc93",
   "metadata": {},
   "outputs": [
    {
     "name": "stdout",
     "output_type": "stream",
     "text": [
      "Matrix:\n",
      "[419, 591, 152, 739, 158]\n",
      "[-228, 696, -111, -149, 782]\n",
      "[-95, 16, 234, -85, 538]\n",
      "[27, 978, 867, 275, 930]\n",
      "[752, 434, 879, 477, 1019]\n"
     ]
    }
   ],
   "source": [
    "import random \n",
    "\n",
    "if my_m == \"\":\n",
    "    m = 50\n",
    "else:\n",
    "    m = int(my_m)\n",
    "if my_n == \"\":\n",
    "    n = 50\n",
    "else:\n",
    "    n = int(my_n)\n",
    "if my_min_lim == \"\":\n",
    "    min_lim = -250\n",
    "else:\n",
    "    min_lim = int(my_min_lim)\n",
    "if my_max_lim == \"\":\n",
    "    max_lim = 1020\n",
    "else:\n",
    "    max_lim = int(my_max_lim)\n",
    "    \n",
    "matrix = [ [ random.randint(min_lim, max_lim) for j in range(n)] for i in range(m) ]\n",
    "print('Matrix:')\n",
    "\n",
    "for i in range(m):\n",
    "    print(matrix[i])"
   ]
  },
  {
   "cell_type": "markdown",
   "id": "ffecf55f",
   "metadata": {},
   "source": [
    "### Задание №3\n",
    "### Реализовать методы сортировки строк числовой матрицы в соответствии с заданием.\n",
    "### Оценить время работы каждого алгоритма сортировки и сравнить его со временем стандартной функции сортировки.\n",
    "### Испытания проводить на сгенерированных матрицах."
   ]
  },
  {
   "cell_type": "code",
   "execution_count": 4,
   "id": "064c628a",
   "metadata": {},
   "outputs": [],
   "source": [
    "import time\n",
    "import copy"
   ]
  },
  {
   "cell_type": "code",
   "execution_count": 5,
   "id": "16ce0ed6",
   "metadata": {
    "scrolled": true
   },
   "outputs": [
    {
     "name": "stdout",
     "output_type": "stream",
     "text": [
      "[152, 158, 419, 591, 739]\n",
      "[-228, -149, -111, 696, 782]\n",
      "[-95, -85, 16, 234, 538]\n",
      "[27, 275, 867, 930, 978]\n",
      "[434, 477, 752, 879, 1019]\n",
      "0.0010001659393310547\n"
     ]
    }
   ],
   "source": [
    "#сортировка выбором\n",
    "start_time = time.time()\n",
    "matrix1 = copy.deepcopy(matrix)\n",
    "stop_time = time.time()\n",
    "def selection_sort(matrix1):\n",
    "    for i in range(len(matrix1)):\n",
    "        j = 0\n",
    "        while j < len(matrix1[i]) - 1:\n",
    "            t = j\n",
    "            k = j + 1\n",
    "            while k < len(matrix1[i]):\n",
    "                if matrix1[i][k] < matrix1[i][t]:\n",
    "                    t = k\n",
    "                k += 1\n",
    "            matrix1[i][j], matrix1[i][t] = matrix1[i][t], matrix1[i][j]\n",
    "            j += 1\n",
    "        print(matrix1[i])\n",
    "        \n",
    "selection_sort(matrix1)\n",
    "print(time.time() - start_time)"
   ]
  },
  {
   "cell_type": "code",
   "execution_count": 13,
   "id": "55754385",
   "metadata": {},
   "outputs": [
    {
     "name": "stdout",
     "output_type": "stream",
     "text": [
      "[152, 158, 419, 591, 739]\n",
      "[-228, -149, -111, 696, 782]\n",
      "[-95, -85, 16, 234, 538]\n",
      "[27, 275, 867, 930, 978]\n",
      "[434, 477, 752, 879, 1019]\n",
      "0.0010001659393310547\n"
     ]
    }
   ],
   "source": [
    "#сортировка вставкой\n",
    "start_time = time.time()\n",
    "matrix2 = copy.deepcopy(matrix)\n",
    "stop_time = time.time()\n",
    "def insertion_sort(matrix2):\n",
    "    for i in range(len(matrix2)):\n",
    "        for j in range(1, len(matrix2[i])):\n",
    "            temp = matrix2[i][j]\n",
    "            k = j - 1\n",
    "            while (k >= 0 and temp < matrix2[i][k]):\n",
    "                # Меняем местами число, продвигая по списку\n",
    "                matrix2[i][k + 1] = matrix2[i][k]\n",
    "                k -= 1\n",
    "            # Остановимся и сделаем последний обмен\n",
    "            matrix2[i][k + 1] = temp\n",
    "        print(matrix2[i])    \n",
    "\n",
    "insertion_sort(matrix2)\n",
    "print(time.time() - start_time)"
   ]
  },
  {
   "cell_type": "code",
   "execution_count": 12,
   "id": "bb4dc427",
   "metadata": {},
   "outputs": [
    {
     "name": "stdout",
     "output_type": "stream",
     "text": [
      "[152, 158, 419, 591, 739]\n",
      "[-228, -149, -111, 696, 782]\n",
      "[-95, -85, 16, 234, 538]\n",
      "[27, 275, 867, 930, 978]\n",
      "[434, 477, 752, 879, 1019]\n",
      "0.0009951591491699219\n"
     ]
    }
   ],
   "source": [
    "#сортировка обменом\n",
    "start_time = time.time()\n",
    "matrix3 = copy.deepcopy(matrix)\n",
    "stop_time = time.time()\n",
    "def bubble_sort(matrix3):\n",
    "    for i in range(len(matrix3)):\n",
    "        for j in range(len(matrix3) - 1):\n",
    "            for k in range(len(matrix3) - j - 1):\n",
    "                if matrix3[i][k] > matrix3[i][k + 1]:\n",
    "                    swapped = matrix3[i][k]\n",
    "                    matrix3[i][k] = matrix3[i][k + 1]\n",
    "                    matrix3[i][k + 1] = swapped\n",
    "        print(matrix3[i])\n",
    "bubble_sort(matrix3)\n",
    "print(time.time() - start_time)"
   ]
  },
  {
   "cell_type": "code",
   "execution_count": 8,
   "id": "77312842",
   "metadata": {},
   "outputs": [
    {
     "name": "stdout",
     "output_type": "stream",
     "text": [
      "[152, 158, 419, 591, 739]\n",
      "[-228, -149, -111, 696, 782]\n",
      "[-95, -85, 16, 234, 538]\n",
      "[27, 275, 867, 930, 978]\n",
      "[434, 477, 752, 879, 1019]\n",
      "0.00099945068359375\n"
     ]
    }
   ],
   "source": [
    "#сортировка Шелла\n",
    "start_time = time.time()\n",
    "matrix4 = copy.deepcopy(matrix)\n",
    "stop_time = time.time()\n",
    "def shell_sort(matrix4):\n",
    "    for i in range(len(matrix4)):\n",
    "        last_num = len(matrix4) - 1\n",
    "        # Диапазон массива\n",
    "        step = len(matrix4)//2\n",
    "        while step > 0:\n",
    "            for j in range(step, last_num + 1, 1):\n",
    "                current_num = j\n",
    "                pos = current_num - step # Значение индекса элемента\n",
    "                while pos >= 0 and matrix4[i][pos] > matrix4[i][current_num]:\n",
    "                    matrix4[i][pos], matrix4[i][current_num] = matrix4[i][current_num], matrix4[i][pos]\n",
    "                    current_num = pos\n",
    "                    pos = current_num - step\n",
    "            step //= 2\n",
    "        print(matrix4[i])\n",
    "\n",
    "shell_sort(matrix4)\n",
    "print(time.time() - start_time)\n",
    "    "
   ]
  },
  {
   "cell_type": "code",
   "execution_count": 9,
   "id": "fee41e17",
   "metadata": {},
   "outputs": [
    {
     "name": "stdout",
     "output_type": "stream",
     "text": [
      "[152, 158, 419, 591, 739]\n",
      "[-228, -149, -111, 696, 782]\n",
      "[-95, -85, 16, 234, 538]\n",
      "[27, 275, 867, 930, 978]\n",
      "[434, 477, 752, 879, 1019]\n",
      "0.00099945068359375\n"
     ]
    }
   ],
   "source": [
    "#турнирная сортировка\n",
    "start_time = time.time()\n",
    "matrix5 = copy.deepcopy(matrix)\n",
    "stop_time = time.time()\n",
    "\n",
    "def heapify(matrix7, n, i):\n",
    "    largest = i # Initialize largest as root\n",
    "    l = 2 * i + 1   # left = 2*i + 1\n",
    "    r = 2 * i + 2   # right = 2*i + 2\n",
    "\n",
    "  # Проверяем существует ли левый дочерний элемент больший, чем корень\n",
    "\n",
    "    if l < n and matrix7[i] < matrix7[l]:\n",
    "        largest = l\n",
    "\n",
    "    # Проверяем существует ли правый дочерний элемент больший, чем корень\n",
    "\n",
    "    if r < n and matrix7[largest] < matrix7[r]:\n",
    "        largest = r\n",
    "\n",
    "    # Заменяем корень, если нужно\n",
    "    if largest != i:\n",
    "        matrix7[i],matrix7[largest] = matrix7[largest],matrix7[i] # свап\n",
    "\n",
    "        # Применяем heapify к корню.\n",
    "        heapify(matrix7, n, largest)\n",
    "        \n",
    "# Основная функция для сортировки массива заданного размера\n",
    "def heapSort(matrix7):\n",
    "    n = len(matrix7)\n",
    "\n",
    "    # Построение max-heap.\n",
    "    for i in range(n, -1, -1):\n",
    "        heapify(matrix7, n, i)\n",
    "\n",
    "    # Один за другим извлекаем элементы\n",
    "    for i in range(n-1, 0, -1):\n",
    "        matrix7[i], matrix7[0] = matrix7[0], matrix7[i] # свап \n",
    "        heapify(matrix7, i, 0)\n",
    "print(time.time() - start_time)\n"
   ]
  },
  {
   "cell_type": "code",
   "execution_count": 10,
   "id": "ce010ec9",
   "metadata": {},
   "outputs": [
    {
     "name": "stdout",
     "output_type": "stream",
     "text": [
      "[152, 158, 419, 591, 739]\n",
      "[-228, -149, -111, 696, 782]\n",
      "[-95, -85, 16, 234, 538]\n",
      "[27, 275, 867, 930, 978]\n",
      "[434, 477, 752, 879, 1019]\n",
      "0.0009982585906982422\n"
     ]
    }
   ],
   "source": [
    "#быстрая сортировка \n",
    "start_time = time.time()\n",
    "matrix6 = copy.deepcopy(matrix)\n",
    "stop_time = time.time()\n",
    "def quick_sort(num):\n",
    "    # Выбирается один опорный элемент\n",
    "    if len(num) <= 1:\n",
    "        return num\n",
    "    else:\n",
    "        # Рандом\n",
    "        q = random.choice(num)\n",
    "    # Все элементы меньше опорного перемешаются слева от него, остальные — направо\n",
    "    l_num = [n for n in num if n < q]\n",
    "    \n",
    "    e_num = [q] * num.count(q)\n",
    "    b_num = [n for n in num if n > q]\n",
    "    return quick_sort(l_num) + e_num + quick_sort(b_num)\n",
    "\n",
    "for i in range(len(matrix6)):\n",
    "    matrix6[i] = quick_sort(matrix6[i])\n",
    "    print(matrix6[i])\n",
    "    \n",
    "quick_sort(matrix6)\n",
    "print(time.time() - start_time)"
   ]
  },
  {
   "cell_type": "code",
   "execution_count": 11,
   "id": "46c84da8",
   "metadata": {},
   "outputs": [
    {
     "name": "stdout",
     "output_type": "stream",
     "text": [
      "0.0\n"
     ]
    }
   ],
   "source": [
    "#пирамидная сортировка\n",
    "start_time = time.time()\n",
    "matrix7 = copy.deepcopy(matrix)\n",
    "stop_time = time.time()\n",
    "# Процедура для преобразования в двоичную кучу поддерева с корневым узлом i, что является индексом в arr[]. n - размер кучи\n",
    "def heapify(matrix7, n, i):\n",
    "    largest = i # Initialize largest as root\n",
    "    l = 2 * i + 1   # left = 2*i + 1\n",
    "    r = 2 * i + 2   # right = 2*i + 2\n",
    "\n",
    "  # Проверяем существует ли левый дочерний элемент больший, чем корень\n",
    "\n",
    "    if l < n and matrix7[i] < matrix7[l]:\n",
    "        largest = l\n",
    "\n",
    "    # Проверяем существует ли правый дочерний элемент больший, чем корень\n",
    "\n",
    "    if r < n and matrix7[largest] < matrix7[r]:\n",
    "        largest = r\n",
    "\n",
    "    # Заменяем корень, если нужно\n",
    "    if largest != i:\n",
    "        matrix7[i],matrix7[largest] = matrix7[largest],matrix7[i] # свап\n",
    "\n",
    "        # Применяем heapify к корню.\n",
    "        heapify(matrix7, n, largest)\n",
    "        \n",
    "# Основная функция для сортировки массива заданного размера\n",
    "def heapSort(matrix7):\n",
    "    n = len(matrix7)\n",
    "\n",
    "    # Построение max-heap.\n",
    "    for i in range(n, -1, -1):\n",
    "        heapify(matrix7, n, i)\n",
    "\n",
    "    # Один за другим извлекаем элементы\n",
    "    for i in range(n-1, 0, -1):\n",
    "        matrix7[i], matrix7[0] = matrix7[0], matrix7[i] # свап \n",
    "        heapify(matrix7, i, 0)\n",
    "print(time.time() - start_time)\n",
    "    "
   ]
  }
 ],
 "metadata": {
  "kernelspec": {
   "display_name": "Python 3",
   "language": "python",
   "name": "python3"
  },
  "language_info": {
   "codemirror_mode": {
    "name": "ipython",
    "version": 3
   },
   "file_extension": ".py",
   "mimetype": "text/x-python",
   "name": "python",
   "nbconvert_exporter": "python",
   "pygments_lexer": "ipython3",
   "version": "3.9.6"
  },
  "widgets": {
   "application/vnd.jupyter.widget-state+json": {
    "state": {},
    "version_major": 2,
    "version_minor": 0
   }
  }
 },
 "nbformat": 4,
 "nbformat_minor": 5
}
